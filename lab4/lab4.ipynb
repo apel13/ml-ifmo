{
 "cells": [
  {
   "cell_type": "code",
   "execution_count": 539,
   "metadata": {},
   "outputs": [
    {
     "name": "stdout",
     "output_type": "stream",
     "text": [
      "Populating the interactive namespace from numpy and matplotlib\n"
     ]
    }
   ],
   "source": [
    "import random\n",
    "import matplotlib.pyplot as plt\n",
    "import scipy as sc\n",
    "import pandas as pd\n",
    "import numpy as np\n",
    "from IPython.core.interactiveshell import InteractiveShell\n",
    "import warnings\n",
    "warnings.filterwarnings('ignore')\n",
    "\n",
    "InteractiveShell.ast_node_interactivity = \"all\"  # \"last_expr\"\n",
    "\n",
    "%pylab inline\n",
    "%matplotlib inline\n",
    "\n",
    "np.random.seed(1)\n",
    "np.set_printoptions(suppress=True, formatter={'float_kind': '{:0.5f}'.format})\n",
    "\n",
    "# %%writefile template.py#\n",
    "# %load template.py - внешний файл\n",
    "# %lsmagic"
   ]
  },
  {
   "cell_type": "code",
   "execution_count": 540,
   "metadata": {},
   "outputs": [],
   "source": [
    "from os import walk\n",
    "from collections import defaultdict\n",
    "import re\n",
    "\n",
    "files = []\n",
    "for (dirpath, dirnames, filenames) in walk(\"./messages/\"):\n",
    "    files.extend(filenames)\n",
    "    break\n",
    "\n",
    "X = []\n",
    "Y = []\n",
    "for file in files:\n",
    "    with open(\"./messages/\" + file, \"r\") as f:\n",
    "        header = f.readline()\n",
    "        no = f.readline()\n",
    "        message = f.readline()\n",
    "        pred = re.search(\"^.*legit.*$\", file)\n",
    "        if (pred):\n",
    "            Y.append(0)\n",
    "        else:\n",
    "            Y.append(1)\n",
    "        tmp_arr = np.array(\" \".join(header.split()[1:]) + \" \" + message).astype(str)\n",
    "        X.append(tmp_arr)\n",
    "        \n",
    "X = np.array(X)\n",
    "Y = np.array(Y)"
   ]
  },
  {
   "cell_type": "code",
   "execution_count": 541,
   "metadata": {},
   "outputs": [
    {
     "data": {
      "text/plain": [
       "CountVectorizer(analyzer='word', binary=False, decode_error='strict',\n",
       "                dtype=<class 'numpy.int64'>, encoding='utf-8', input='content',\n",
       "                lowercase=True, max_df=1.0, max_features=None, min_df=1,\n",
       "                ngram_range=(1, 1), preprocessor=None, stop_words=None,\n",
       "                strip_accents=None, token_pattern='(?u)\\\\b\\\\w\\\\w+\\\\b',\n",
       "                tokenizer=None, vocabulary=None)"
      ]
     },
     "execution_count": 541,
     "metadata": {},
     "output_type": "execute_result"
    },
    {
     "data": {
      "text/plain": [
       "(1090, 24718)"
      ]
     },
     "execution_count": 541,
     "metadata": {},
     "output_type": "execute_result"
    }
   ],
   "source": [
    "from sklearn.feature_extraction.text import CountVectorizer\n",
    "c_vec = CountVectorizer()\n",
    "c_vec.fit(X)\n",
    "# c_vec.get_feature_names()\n",
    "doc_array = c_vec.transform(X).toarray()\n",
    "doc_array.shape\n",
    "X_vec = c_vec.fit_transform(X).toarray()"
   ]
  },
  {
   "cell_type": "code",
   "execution_count": 545,
   "metadata": {},
   "outputs": [],
   "source": [
    "X_train, X_test, Y_train, Y_test = train_test_split(X_vec, Y, train_size=0.8)"
   ]
  },
  {
   "cell_type": "code",
   "execution_count": 546,
   "metadata": {},
   "outputs": [
    {
     "data": {
      "text/html": [
       "<div>\n",
       "<style scoped>\n",
       "    .dataframe tbody tr th:only-of-type {\n",
       "        vertical-align: middle;\n",
       "    }\n",
       "\n",
       "    .dataframe tbody tr th {\n",
       "        vertical-align: top;\n",
       "    }\n",
       "\n",
       "    .dataframe thead th {\n",
       "        text-align: right;\n",
       "    }\n",
       "</style>\n",
       "<table border=\"1\" class=\"dataframe\">\n",
       "  <thead>\n",
       "    <tr style=\"text-align: right;\">\n",
       "      <th></th>\n",
       "      <th>10</th>\n",
       "      <th>100</th>\n",
       "      <th>1000</th>\n",
       "      <th>10000</th>\n",
       "      <th>10001</th>\n",
       "      <th>10002</th>\n",
       "      <th>10003</th>\n",
       "      <th>10004</th>\n",
       "      <th>10005</th>\n",
       "      <th>10006</th>\n",
       "      <th>...</th>\n",
       "      <th>9990</th>\n",
       "      <th>9991</th>\n",
       "      <th>9992</th>\n",
       "      <th>9993</th>\n",
       "      <th>9994</th>\n",
       "      <th>9995</th>\n",
       "      <th>9996</th>\n",
       "      <th>9997</th>\n",
       "      <th>9998</th>\n",
       "      <th>9999</th>\n",
       "    </tr>\n",
       "  </thead>\n",
       "  <tbody>\n",
       "    <tr>\n",
       "      <th>0</th>\n",
       "      <td>0</td>\n",
       "      <td>0</td>\n",
       "      <td>0</td>\n",
       "      <td>0</td>\n",
       "      <td>0</td>\n",
       "      <td>0</td>\n",
       "      <td>0</td>\n",
       "      <td>0</td>\n",
       "      <td>0</td>\n",
       "      <td>0</td>\n",
       "      <td>...</td>\n",
       "      <td>0</td>\n",
       "      <td>0</td>\n",
       "      <td>0</td>\n",
       "      <td>0</td>\n",
       "      <td>0</td>\n",
       "      <td>0</td>\n",
       "      <td>0</td>\n",
       "      <td>0</td>\n",
       "      <td>0</td>\n",
       "      <td>0</td>\n",
       "    </tr>\n",
       "    <tr>\n",
       "      <th>1</th>\n",
       "      <td>0</td>\n",
       "      <td>0</td>\n",
       "      <td>0</td>\n",
       "      <td>0</td>\n",
       "      <td>0</td>\n",
       "      <td>0</td>\n",
       "      <td>0</td>\n",
       "      <td>0</td>\n",
       "      <td>0</td>\n",
       "      <td>0</td>\n",
       "      <td>...</td>\n",
       "      <td>0</td>\n",
       "      <td>0</td>\n",
       "      <td>0</td>\n",
       "      <td>0</td>\n",
       "      <td>0</td>\n",
       "      <td>0</td>\n",
       "      <td>0</td>\n",
       "      <td>0</td>\n",
       "      <td>0</td>\n",
       "      <td>0</td>\n",
       "    </tr>\n",
       "    <tr>\n",
       "      <th>2</th>\n",
       "      <td>0</td>\n",
       "      <td>0</td>\n",
       "      <td>0</td>\n",
       "      <td>0</td>\n",
       "      <td>0</td>\n",
       "      <td>0</td>\n",
       "      <td>0</td>\n",
       "      <td>0</td>\n",
       "      <td>0</td>\n",
       "      <td>0</td>\n",
       "      <td>...</td>\n",
       "      <td>0</td>\n",
       "      <td>0</td>\n",
       "      <td>0</td>\n",
       "      <td>0</td>\n",
       "      <td>0</td>\n",
       "      <td>0</td>\n",
       "      <td>0</td>\n",
       "      <td>0</td>\n",
       "      <td>0</td>\n",
       "      <td>0</td>\n",
       "    </tr>\n",
       "    <tr>\n",
       "      <th>3</th>\n",
       "      <td>0</td>\n",
       "      <td>0</td>\n",
       "      <td>0</td>\n",
       "      <td>0</td>\n",
       "      <td>0</td>\n",
       "      <td>0</td>\n",
       "      <td>0</td>\n",
       "      <td>0</td>\n",
       "      <td>0</td>\n",
       "      <td>0</td>\n",
       "      <td>...</td>\n",
       "      <td>0</td>\n",
       "      <td>0</td>\n",
       "      <td>0</td>\n",
       "      <td>0</td>\n",
       "      <td>0</td>\n",
       "      <td>0</td>\n",
       "      <td>0</td>\n",
       "      <td>0</td>\n",
       "      <td>0</td>\n",
       "      <td>0</td>\n",
       "    </tr>\n",
       "    <tr>\n",
       "      <th>4</th>\n",
       "      <td>0</td>\n",
       "      <td>0</td>\n",
       "      <td>0</td>\n",
       "      <td>0</td>\n",
       "      <td>0</td>\n",
       "      <td>0</td>\n",
       "      <td>0</td>\n",
       "      <td>0</td>\n",
       "      <td>0</td>\n",
       "      <td>0</td>\n",
       "      <td>...</td>\n",
       "      <td>0</td>\n",
       "      <td>0</td>\n",
       "      <td>0</td>\n",
       "      <td>0</td>\n",
       "      <td>0</td>\n",
       "      <td>0</td>\n",
       "      <td>0</td>\n",
       "      <td>0</td>\n",
       "      <td>0</td>\n",
       "      <td>0</td>\n",
       "    </tr>\n",
       "    <tr>\n",
       "      <th>...</th>\n",
       "      <td>...</td>\n",
       "      <td>...</td>\n",
       "      <td>...</td>\n",
       "      <td>...</td>\n",
       "      <td>...</td>\n",
       "      <td>...</td>\n",
       "      <td>...</td>\n",
       "      <td>...</td>\n",
       "      <td>...</td>\n",
       "      <td>...</td>\n",
       "      <td>...</td>\n",
       "      <td>...</td>\n",
       "      <td>...</td>\n",
       "      <td>...</td>\n",
       "      <td>...</td>\n",
       "      <td>...</td>\n",
       "      <td>...</td>\n",
       "      <td>...</td>\n",
       "      <td>...</td>\n",
       "      <td>...</td>\n",
       "      <td>...</td>\n",
       "    </tr>\n",
       "    <tr>\n",
       "      <th>1085</th>\n",
       "      <td>0</td>\n",
       "      <td>0</td>\n",
       "      <td>0</td>\n",
       "      <td>0</td>\n",
       "      <td>0</td>\n",
       "      <td>0</td>\n",
       "      <td>0</td>\n",
       "      <td>0</td>\n",
       "      <td>0</td>\n",
       "      <td>0</td>\n",
       "      <td>...</td>\n",
       "      <td>0</td>\n",
       "      <td>0</td>\n",
       "      <td>0</td>\n",
       "      <td>0</td>\n",
       "      <td>0</td>\n",
       "      <td>0</td>\n",
       "      <td>0</td>\n",
       "      <td>0</td>\n",
       "      <td>0</td>\n",
       "      <td>0</td>\n",
       "    </tr>\n",
       "    <tr>\n",
       "      <th>1086</th>\n",
       "      <td>0</td>\n",
       "      <td>0</td>\n",
       "      <td>0</td>\n",
       "      <td>0</td>\n",
       "      <td>0</td>\n",
       "      <td>0</td>\n",
       "      <td>0</td>\n",
       "      <td>0</td>\n",
       "      <td>0</td>\n",
       "      <td>0</td>\n",
       "      <td>...</td>\n",
       "      <td>0</td>\n",
       "      <td>0</td>\n",
       "      <td>0</td>\n",
       "      <td>0</td>\n",
       "      <td>0</td>\n",
       "      <td>0</td>\n",
       "      <td>0</td>\n",
       "      <td>0</td>\n",
       "      <td>0</td>\n",
       "      <td>0</td>\n",
       "    </tr>\n",
       "    <tr>\n",
       "      <th>1087</th>\n",
       "      <td>0</td>\n",
       "      <td>0</td>\n",
       "      <td>0</td>\n",
       "      <td>0</td>\n",
       "      <td>0</td>\n",
       "      <td>0</td>\n",
       "      <td>0</td>\n",
       "      <td>0</td>\n",
       "      <td>0</td>\n",
       "      <td>0</td>\n",
       "      <td>...</td>\n",
       "      <td>0</td>\n",
       "      <td>0</td>\n",
       "      <td>0</td>\n",
       "      <td>0</td>\n",
       "      <td>0</td>\n",
       "      <td>0</td>\n",
       "      <td>0</td>\n",
       "      <td>0</td>\n",
       "      <td>0</td>\n",
       "      <td>0</td>\n",
       "    </tr>\n",
       "    <tr>\n",
       "      <th>1088</th>\n",
       "      <td>0</td>\n",
       "      <td>0</td>\n",
       "      <td>0</td>\n",
       "      <td>0</td>\n",
       "      <td>0</td>\n",
       "      <td>0</td>\n",
       "      <td>0</td>\n",
       "      <td>0</td>\n",
       "      <td>0</td>\n",
       "      <td>0</td>\n",
       "      <td>...</td>\n",
       "      <td>0</td>\n",
       "      <td>0</td>\n",
       "      <td>0</td>\n",
       "      <td>0</td>\n",
       "      <td>0</td>\n",
       "      <td>0</td>\n",
       "      <td>0</td>\n",
       "      <td>0</td>\n",
       "      <td>0</td>\n",
       "      <td>0</td>\n",
       "    </tr>\n",
       "    <tr>\n",
       "      <th>1089</th>\n",
       "      <td>0</td>\n",
       "      <td>0</td>\n",
       "      <td>0</td>\n",
       "      <td>0</td>\n",
       "      <td>0</td>\n",
       "      <td>0</td>\n",
       "      <td>0</td>\n",
       "      <td>0</td>\n",
       "      <td>0</td>\n",
       "      <td>0</td>\n",
       "      <td>...</td>\n",
       "      <td>0</td>\n",
       "      <td>0</td>\n",
       "      <td>0</td>\n",
       "      <td>0</td>\n",
       "      <td>0</td>\n",
       "      <td>0</td>\n",
       "      <td>0</td>\n",
       "      <td>3</td>\n",
       "      <td>0</td>\n",
       "      <td>0</td>\n",
       "    </tr>\n",
       "  </tbody>\n",
       "</table>\n",
       "<p>1090 rows × 24718 columns</p>\n",
       "</div>"
      ],
      "text/plain": [
       "      10  100  1000  10000  10001  10002  10003  10004  10005  10006  ...  \\\n",
       "0      0    0     0      0      0      0      0      0      0      0  ...   \n",
       "1      0    0     0      0      0      0      0      0      0      0  ...   \n",
       "2      0    0     0      0      0      0      0      0      0      0  ...   \n",
       "3      0    0     0      0      0      0      0      0      0      0  ...   \n",
       "4      0    0     0      0      0      0      0      0      0      0  ...   \n",
       "...   ..  ...   ...    ...    ...    ...    ...    ...    ...    ...  ...   \n",
       "1085   0    0     0      0      0      0      0      0      0      0  ...   \n",
       "1086   0    0     0      0      0      0      0      0      0      0  ...   \n",
       "1087   0    0     0      0      0      0      0      0      0      0  ...   \n",
       "1088   0    0     0      0      0      0      0      0      0      0  ...   \n",
       "1089   0    0     0      0      0      0      0      0      0      0  ...   \n",
       "\n",
       "      9990  9991  9992  9993  9994  9995  9996  9997  9998  9999  \n",
       "0        0     0     0     0     0     0     0     0     0     0  \n",
       "1        0     0     0     0     0     0     0     0     0     0  \n",
       "2        0     0     0     0     0     0     0     0     0     0  \n",
       "3        0     0     0     0     0     0     0     0     0     0  \n",
       "4        0     0     0     0     0     0     0     0     0     0  \n",
       "...    ...   ...   ...   ...   ...   ...   ...   ...   ...   ...  \n",
       "1085     0     0     0     0     0     0     0     0     0     0  \n",
       "1086     0     0     0     0     0     0     0     0     0     0  \n",
       "1087     0     0     0     0     0     0     0     0     0     0  \n",
       "1088     0     0     0     0     0     0     0     0     0     0  \n",
       "1089     0     0     0     0     0     0     0     3     0     0  \n",
       "\n",
       "[1090 rows x 24718 columns]"
      ]
     },
     "execution_count": 546,
     "metadata": {},
     "output_type": "execute_result"
    }
   ],
   "source": [
    "freq_matrix = pd.DataFrame(doc_array, columns=c_vec.get_feature_names())\n",
    "freq_matrix"
   ]
  },
  {
   "cell_type": "code",
   "execution_count": 549,
   "metadata": {},
   "outputs": [],
   "source": [
    "from sklearn.naive_bayes import BernoulliNB, CategoricalNB, ComplementNB, GaussianNB, MultinomialNB\n",
    "from sklearn import model_selection\n",
    "from sklearn.model_selection import cross_validate\n",
    "from sklearn.metrics import make_scorer, roc_curve, confusion_matrix\n",
    "from sklearn.metrics import precision_score, recall_score, f1_score, fbeta_score, auc, accuracy_score"
   ]
  },
  {
   "cell_type": "code",
   "execution_count": 548,
   "metadata": {},
   "outputs": [
    {
     "data": {
      "text/plain": [
       "[<matplotlib.lines.Line2D at 0x7f330831c320>]"
      ]
     },
     "execution_count": 548,
     "metadata": {},
     "output_type": "execute_result"
    },
    {
     "name": "stdout",
     "output_type": "stream",
     "text": [
      "r2:         0.6649590163934427\n",
      "recall:     0.825\n",
      "precision:  0.9851365711025529\n",
      "f1:         0.8972569050628227\n",
      "accuracy:   0.9174311926605506\n",
      "roc_auc:    0.9912568306010929\n"
     ]
    },
    {
     "data": {
      "image/png": "[encoded data removed]",
      "text/plain": [
       "<Figure size 432x288 with 1 Axes>"
      ]
     },
     "metadata": {
      "needs_background": "light"
     },
     "output_type": "display_data"
    }
   ],
   "source": [
    "scores = cross_validate(BernoulliNB(), X_vec, Y, cv=10,\n",
    "                        scoring=('r2', 'recall', 'precision',\n",
    "                                 'f1', 'accuracy', 'roc_auc'),\n",
    "                        return_train_score=True)\n",
    "\n",
    "fpr, tpr, thresholds = roc_curve(Y_test, BernoulliNB().fit(X_train, Y_train).predict(X_test))\n",
    "plt.plot(fpr, tpr)\n",
    "print(\"r2:        \", sum(scores['test_r2']) / 10)\n",
    "print(\"recall:    \", sum(scores['test_recall']) / 10)\n",
    "print(\"precision: \", sum(scores['test_precision']) / 10)\n",
    "print(\"f1:        \", sum(scores['test_f1']) / 10)\n",
    "print(\"accuracy:  \", sum(scores['test_accuracy']) / 10)\n",
    "print(\"roc_auc:   \", sum(scores['test_roc_auc']) / 10)"
   ]
  },
  {
   "cell_type": "code",
   "execution_count": 623,
   "metadata": {},
   "outputs": [],
   "source": [
    "tmp_alpha1 = np.arange(1e-11, 1e10, 5e8).reshape(-1, 1)\n",
    "tmp_alpha2 = np.array([1e-11] * len(tmp_alpha1)).reshape(-1, 1)\n",
    "\n",
    "fog_gc = np.append(tmp_alpha1, tmp_alpha2, axis=1).tolist()"
   ]
  },
  {
   "cell_type": "code",
   "execution_count": 616,
   "metadata": {},
   "outputs": [
    {
     "name": "stdout",
     "output_type": "stream",
     "text": [
      "Best params for precision: [4000000000.0, 1e-11]\n",
      "Best score: 1.0\n"
     ]
    }
   ],
   "source": [
    "best_score_pre = 0\n",
    "for i in fog_gc:\n",
    "    clf = BernoulliNB(class_prior=i)\n",
    "    clf = clf.fit(X_vec, Y)\n",
    "    Y_pred = clf.predict(X_vec)\n",
    "    pre = precision_score(Y, Y_pred)\n",
    "    if (pre > best_score_pre):\n",
    "        best_score_pre = pre\n",
    "        best_grid_pre = i\n",
    "\n",
    "\n",
    "print(\"Best params for precision:\",best_grid_pre)\n",
    "print(\"Best score:\", best_score_pre)\n"
   ]
  },
  {
   "cell_type": "code",
   "execution_count": 618,
   "metadata": {},
   "outputs": [
    {
     "data": {
      "text/plain": [
       "<sklearn.metrics._plot.confusion_matrix.ConfusionMatrixDisplay at 0x7f3302e7bb70>"
      ]
     },
     "execution_count": 618,
     "metadata": {},
     "output_type": "execute_result"
    },
    {
     "name": "stdout",
     "output_type": "stream",
     "text": [
      "Confusion Matrix: precision = 1.0\n"
     ]
    },
    {
     "data": {
      "image/png": "[encoded data removed]",
      "text/plain": [
       "<Figure size 432x288 with 2 Axes>"
      ]
     },
     "metadata": {
      "needs_background": "light"
     },
     "output_type": "display_data"
    }
   ],
   "source": [
    "from sklearn.metrics import plot_confusion_matrix\n",
    "clf1 = BernoulliNB(class_prior=[4000000000.0, 1e-11])\n",
    "clf1 = clf1.fit(X_vec, Y)\n",
    "\n",
    "plot_confusion_matrix(clf1, X_vec, Y,\n",
    "                      cmap=plt.cm.Blues,\n",
    "                      display_labels=[\"ok\", \"spam\"],\n",
    "                      values_format='d')\n",
    "print(\"Confusion Matrix: precision = 1.0\")"
   ]
  },
  {
   "cell_type": "code",
   "execution_count": 596,
   "metadata": {},
   "outputs": [
    {
     "data": {
      "text/plain": [
       "[<matplotlib.lines.Line2D at 0x7f32dddd5518>]"
      ]
     },
     "execution_count": 596,
     "metadata": {},
     "output_type": "execute_result"
    },
    {
     "data": {
      "image/png": "[encoded data removed]",
      "text/plain": [
       "<Figure size 432x288 with 1 Axes>"
      ]
     },
     "metadata": {
      "needs_background": "light"
     },
     "output_type": "display_data"
    }
   ],
   "source": [
    "scores = []\n",
    "alpha = []\n",
    "for i in fog_gc:\n",
    "    clf = BernoulliNB(class_prior=i)\n",
    "    clf = clf.fit(X_vec, Y)\n",
    "    scores.append(accuracy_score(Y, clf.predict(X_vec)))\n",
    "    alpha.append(i[0])\n",
    "\n",
    "plt.plot(alpha, scores)"
   ]
  },
  {
   "cell_type": "code",
   "execution_count": 636,
   "metadata": {},
   "outputs": [
    {
     "name": "stdout",
     "output_type": "stream",
     "text": [
      "Best params: [29001.0, 1000000000000000.0]\n",
      "Best score: 0.9844036697247707\n"
     ]
    }
   ],
   "source": [
    "tmp_alpha1 = np.arange(1, 1e5, 1000).reshape(-1, 1)\n",
    "tmp_alpha2 = np.array([1e15] * len(tmp_alpha1)).reshape(-1, 1)\n",
    "\n",
    "fog_gc = np.append(tmp_alpha1, tmp_alpha2, axis=1).tolist()\n",
    "\n",
    "best_score = 0\n",
    "for i in fog_gc:\n",
    "    clf = BernoulliNB(class_prior=i)\n",
    "    clf = clf.fit(X_vec, Y)\n",
    "    Y_pred = clf.predict(X_vec)\n",
    "    acc = accuracy_score(Y, Y_pred)\n",
    "    if (acc > best_score):\n",
    "        best_score = acc\n",
    "        best_grid = i\n",
    "\n",
    "\n",
    "print(\"Best params:\", best_grid)\n",
    "print(\"Best score:\", best_score)"
   ]
  },
  {
   "cell_type": "code",
   "execution_count": 637,
   "metadata": {},
   "outputs": [
    {
     "data": {
      "text/plain": [
       "<sklearn.metrics._plot.confusion_matrix.ConfusionMatrixDisplay at 0x7f3302aaa3c8>"
      ]
     },
     "execution_count": 637,
     "metadata": {},
     "output_type": "execute_result"
    },
    {
     "data": {
      "image/png": "[encoded data removed]",
      "text/plain": [
       "<Figure size 432x288 with 2 Axes>"
      ]
     },
     "metadata": {
      "needs_background": "light"
     },
     "output_type": "display_data"
    }
   ],
   "source": [
    "clf1 = BernoulliNB(class_prior=best_grid)\n",
    "clf1 = clf1.fit(X_vec, Y)\n",
    "\n",
    "plot_confusion_matrix(clf1, X_vec, Y,\n",
    "                      cmap=plt.cm.Blues,\n",
    "                      display_labels=[\"ok\", \"spam\"],\n",
    "                      values_format='d')"
   ]
  },
  {
   "cell_type": "code",
   "execution_count": null,
   "metadata": {},
   "outputs": [],
   "source": []
  }
 ],
 "metadata": {
  "kernelspec": {
   "display_name": "Python 3",
   "language": "python",
   "name": "python3"
  },
  "language_info": {
   "codemirror_mode": {
    "name": "ipython",
    "version": 3
   },
   "file_extension": ".py",
   "mimetype": "text/x-python",
   "name": "python",
   "nbconvert_exporter": "python",
   "pygments_lexer": "ipython3",
   "version": "3.8.0"
  }
 },
 "nbformat": 4,
 "nbformat_minor": 4
}
